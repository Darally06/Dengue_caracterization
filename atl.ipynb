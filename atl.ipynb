{
 "cells": [
  {
   "cell_type": "markdown",
   "id": "4b5a3bd9",
   "metadata": {},
   "source": [
    "# Atlántico"
   ]
  },
  {
   "cell_type": "markdown",
   "id": "9b55a6e5",
   "metadata": {},
   "source": [
    "## 1. Calidad de los datos\n",
    "\n",
    "Revisión de valores faltantes por variable.\n",
    "\n",
    "Tipos de variables (numéricas, categóricas, fechas).\n",
    "\n",
    "Detección de inconsistencias (edades negativas, fechas en desorden, sexo no definido, etc.).\n",
    "\n",
    "Distribución de diferencia de días (síntoma → consulta → notificación)."
   ]
  },
  {
   "cell_type": "markdown",
   "id": "8d772b0a",
   "metadata": {},
   "source": [
    "## 2. Análisis univariado"
   ]
  },
  {
   "cell_type": "markdown",
   "id": "6153d0df",
   "metadata": {},
   "source": [
    "3.1 Variables demográficas\n",
    "\n",
    "Edad (distribución por grupos etarios).\n",
    "\n",
    "Sexo (proporciones).\n",
    "\n",
    "Etnia.\n",
    "\n",
    "Tipo de aseguradora.\n",
    "\n",
    "3.2 Variables del evento/desenlace\n",
    "\n",
    "Evento / tipo de caso (distribución).\n",
    "\n",
    "Hospitalización (%).\n",
    "\n",
    "Mortalidad (%).\n",
    "\n",
    "3.3 Variables geográficas\n",
    "\n",
    "Municipio (Atlántico).\n",
    "\n",
    "Localidad y barrio (Barranquilla).\n",
    "\n",
    "Distribución de casos en mapas o tablas.\n",
    "\n",
    "3.4 Variables temporales\n",
    "\n",
    "Serie de casos por año.\n",
    "\n",
    "Serie de casos por semana.\n",
    "\n",
    "Picos y estacionalidad."
   ]
  },
  {
   "cell_type": "markdown",
   "id": "f837f2e5",
   "metadata": {},
   "source": [
    "4. Exploración bivariada (comparaciones)\n",
    "\n",
    "4.1 Demografía vs evento/desenlace\n",
    "\n",
    "Edad × hospitalización.\n",
    "\n",
    "Sexo × tipo de caso.\n",
    "\n",
    "Aseguradora × mortalidad.\n",
    "\n",
    "4.2 Geografía vs desenlace\n",
    "\n",
    "Municipios/localidades con mayor hospitalización o mortalidad.\n",
    "\n",
    "Tasas de casos por 100.000 hab.\n",
    "\n",
    "4.3 Temporalidad vs desenlace\n",
    "\n",
    "Hospitalización y mortalidad por año y semana.\n",
    "\n",
    "Comparaciones antes/después de picos epidémicos."
   ]
  },
  {
   "cell_type": "markdown",
   "id": "35508d7d",
   "metadata": {},
   "source": [
    "5. Pruebas estadísticas\n",
    "\n",
    "Pruebas de proporción:\n",
    "\n",
    "Diferencia en proporciones de hospitalización por sexo.\n",
    "\n",
    "Diferencia en proporciones de mortalidad entre municipios/localidades.\n",
    "\n",
    "Chi-cuadrado de independencia:\n",
    "\n",
    "Sexo × tipo de caso.\n",
    "\n",
    "Edad (categorías) × hospitalización.\n",
    "\n",
    "Municipio × mortalidad.\n",
    "\n",
    "Pruebas de medias:\n",
    "\n",
    "Diferencia en promedio de edad entre hospitalizados vs no hospitalizados.\n",
    "\n",
    "Diferencia en diferencia de días (síntomas→consulta) por municipio."
   ]
  },
  {
   "cell_type": "markdown",
   "id": "6f7973f9",
   "metadata": {},
   "source": [
    "6. Análisis multivariado\n",
    "\n",
    "Correlación entre variables numéricas\n",
    "\n",
    "Edad, diferencia de días, semana.\n",
    "\n",
    "Heatmap de correlaciones.\n",
    "\n",
    "Análisis de correspondencias múltiples (ACM/MCA)\n",
    "\n",
    "Para variables categóricas: sexo, etnia, aseguradora, municipio/localidad.\n",
    "\n",
    "Ver si aparecen perfiles de pacientes.\n",
    "\n",
    "Clustering exploratorio (opcional)\n",
    "\n",
    "Agrupar barrios/localidades por perfil de casos."
   ]
  },
  {
   "cell_type": "markdown",
   "id": "0b784b0c",
   "metadata": {},
   "source": [
    "7. Resumen y hallazgos clave\n",
    "\n",
    "Principales patrones encontrados.\n",
    "\n",
    "Variables críticas para explicar hospitalización y mortalidad.\n",
    "\n",
    "Brechas de información (faltantes o inconsistencias)."
   ]
  },
  {
   "cell_type": "markdown",
   "id": "b7fa521d",
   "metadata": {},
   "source": []
  }
 ],
 "metadata": {
  "language_info": {
   "name": "python"
  }
 },
 "nbformat": 4,
 "nbformat_minor": 5
}
