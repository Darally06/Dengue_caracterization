{
 "cells": [
  {
   "cell_type": "markdown",
   "id": "4b5a3bd9",
   "metadata": {},
   "source": [
    "# **Atlántico**"
   ]
  },
  {
   "cell_type": "code",
   "execution_count": 30,
   "id": "497d05db",
   "metadata": {},
   "outputs": [],
   "source": [
    "import pandas as pd\n",
    "import numpy as np\n",
    "import matplotlib.pyplot as plt\n",
    "import seaborn as sns\n",
    "import os"
   ]
  },
  {
   "cell_type": "code",
   "execution_count": 31,
   "id": "85244c47",
   "metadata": {},
   "outputs": [
    {
     "name": "stdout",
     "output_type": "stream",
     "text": [
      "<class 'pandas.core.frame.DataFrame'>\n",
      "RangeIndex: 35448 entries, 0 to 35447\n",
      "Data columns (total 18 columns):\n",
      " #   Column              Non-Null Count  Dtype  \n",
      "---  ------              --------------  -----  \n",
      " 0   ano                 35448 non-null  int64  \n",
      " 1   area                35448 non-null  int64  \n",
      " 2   barrio              35075 non-null  object \n",
      " 3   edad_uni            35448 non-null  float64\n",
      " 4   etnia               35448 non-null  int64  \n",
      " 5   evento              35448 non-null  int64  \n",
      " 6   fecha_consulta      35448 non-null  object \n",
      " 7   fecha_ini_sintomas  35448 non-null  object \n",
      " 8   fecha_notifica      35448 non-null  object \n",
      " 9   hospitalizacion     35448 non-null  int64  \n",
      " 10  localidad           34035 non-null  object \n",
      " 11  muerte              35448 non-null  int64  \n",
      " 12  municipio           35448 non-null  object \n",
      " 13  semana              35448 non-null  int64  \n",
      " 14  sexo                35448 non-null  object \n",
      " 15  tipo_aseguradora    35448 non-null  object \n",
      " 16  tipo_caso           35448 non-null  int64  \n",
      " 17  uni_med_            35448 non-null  int64  \n",
      "dtypes: float64(1), int64(9), object(8)\n",
      "memory usage: 4.9+ MB\n"
     ]
    }
   ],
   "source": [
    "# Leer el archivo\n",
    "df = pd.read_csv(r\"C:\\Users\\Hp\\DENGUE\\Data\\FinalData_Dengue\\Dengue_ATL.csv\", encoding='latin_1', low_memory=False)\n",
    "df.info()"
   ]
  },
  {
   "cell_type": "markdown",
   "id": "948c6a54",
   "metadata": {},
   "source": [
    "## 1. Calidad de los datos\n",
    "\n",
    "Revisión de valores faltantes por variable.\n",
    "\n",
    "Tipos de variables (numéricas, categóricas, fechas).\n"
   ]
  },
  {
   "cell_type": "code",
   "execution_count": 32,
   "id": "1bb7b572",
   "metadata": {},
   "outputs": [
    {
     "name": "stdout",
     "output_type": "stream",
     "text": [
      "Columna 'fecha_consulta' convertida a datetime.\n",
      "Columna 'fecha_ini_sintomas' convertida a datetime.\n",
      "Columna 'fecha_notifica' convertida a datetime.\n"
     ]
    }
   ],
   "source": [
    "# Lista de columnas que quieres convertir\n",
    "columnas_fecha = [\"fecha_consulta\", \"fecha_ini_sintomas\", \"fecha_notifica\"]\n",
    "\n",
    "for col in columnas_fecha:\n",
    "    df[col] = pd.to_datetime(df[col], errors=\"raise\", dayfirst=True)  \n",
    "    # 👆 usa dayfirst=True si tus fechas están en formato DD/MM/YYYY\n",
    "    print(f\"Columna '{col}' convertida a datetime.\")"
   ]
  },
  {
   "cell_type": "code",
   "execution_count": 33,
   "id": "3239f32d",
   "metadata": {},
   "outputs": [
    {
     "name": "stdout",
     "output_type": "stream",
     "text": [
      "<class 'pandas.core.frame.DataFrame'>\n",
      "RangeIndex: 35448 entries, 0 to 35447\n",
      "Data columns (total 18 columns):\n",
      " #   Column              Non-Null Count  Dtype         \n",
      "---  ------              --------------  -----         \n",
      " 0   ano                 35448 non-null  int64         \n",
      " 1   area                35448 non-null  int64         \n",
      " 2   barrio              35075 non-null  object        \n",
      " 3   edad_uni            35448 non-null  float64       \n",
      " 4   etnia               35448 non-null  int64         \n",
      " 5   evento              35448 non-null  int64         \n",
      " 6   fecha_consulta      35448 non-null  datetime64[ns]\n",
      " 7   fecha_ini_sintomas  35448 non-null  datetime64[ns]\n",
      " 8   fecha_notifica      35448 non-null  datetime64[ns]\n",
      " 9   hospitalizacion     35448 non-null  int64         \n",
      " 10  localidad           34035 non-null  object        \n",
      " 11  muerte              35448 non-null  int64         \n",
      " 12  municipio           35448 non-null  object        \n",
      " 13  semana              35448 non-null  int64         \n",
      " 14  sexo                35448 non-null  object        \n",
      " 15  tipo_aseguradora    35448 non-null  object        \n",
      " 16  tipo_caso           35448 non-null  int64         \n",
      " 17  uni_med_            35448 non-null  int64         \n",
      "dtypes: datetime64[ns](3), float64(1), int64(9), object(5)\n",
      "memory usage: 4.9+ MB\n"
     ]
    }
   ],
   "source": [
    "df.info()"
   ]
  },
  {
   "cell_type": "code",
   "execution_count": 34,
   "id": "38d7dd8f",
   "metadata": {},
   "outputs": [
    {
     "name": "stdout",
     "output_type": "stream",
     "text": [
      "['MALAMBO' 'BARRANQUILLA' 'CANDELARIA' 'SABANALARGA' 'PONEDERA'\n",
      " 'CAMPO DE LA CRUZ' 'SOLEDAD' 'GALAPA' 'TUBARA' 'PALMAR DE VARELA'\n",
      " 'MANATI' 'PUERTO COLOMBIA' 'JUAN DE ACOSTA' 'BARANOA' 'SUAN' 'POLO NUEVO'\n",
      " 'SANTO TOMAS' 'SANTA LUCIA' 'USIACURI' 'SABANAGRANDE' 'PIOJO' 'LURUACO'\n",
      " 'REPELON' 'desconocido']\n"
     ]
    }
   ],
   "source": [
    "# Reemplazar el valor específico\n",
    "df[\"municipio\"] = df[\"municipio\"].replace(\n",
    "    \"* ATLANTICO. MUNICIPIO DESCONO\", \"desconocido\"\n",
    ")\n",
    "\n",
    "# Verificar\n",
    "print(df[\"municipio\"].unique())"
   ]
  },
  {
   "cell_type": "code",
   "execution_count": 35,
   "id": "2760cb15",
   "metadata": {},
   "outputs": [
    {
     "name": "stdout",
     "output_type": "stream",
     "text": [
      "\n",
      "📌 Columna: ano\n",
      "[2024 2023 2022 2017 2021 2019 2018 2020]\n",
      "\n",
      "📌 Columna: area\n",
      "[1 2 3]\n",
      "\n",
      "📌 Columna: etnia\n",
      "[0 1]\n",
      "\n",
      "📌 Columna: evento\n",
      "[220 210]\n",
      "\n",
      "📌 Columna: hospitalizacion\n",
      "[1 0]\n",
      "\n",
      "📌 Columna: muerte\n",
      "[1 0]\n",
      "\n",
      "📌 Columna: municipio\n",
      "['MALAMBO' 'BARRANQUILLA' 'CANDELARIA' 'SABANALARGA' 'PONEDERA'\n",
      " 'CAMPO DE LA CRUZ' 'SOLEDAD' 'GALAPA' 'TUBARA' 'PALMAR DE VARELA'\n",
      " 'MANATI' 'PUERTO COLOMBIA' 'JUAN DE ACOSTA' 'BARANOA' 'SUAN' 'POLO NUEVO'\n",
      " 'SANTO TOMAS' 'SANTA LUCIA' 'USIACURI' 'SABANAGRANDE' 'PIOJO' 'LURUACO'\n",
      " 'REPELON' 'desconocido']\n",
      "\n",
      "📌 Columna: semana\n",
      "[31 12  3 25 24 35 20  9 33  6 34 41 47 29 21 44 42  2 52 38 50  7 16  5\n",
      "  4 23 18 14  1 49 10 43 28 45 37 32 26 11 30 51 19 48  8 27 40 36 46 22\n",
      " 39 13 17 15 53]\n",
      "\n",
      "📌 Columna: sexo\n",
      "['F' 'M']\n",
      "\n",
      "📌 Columna: tipo_aseguradora\n",
      "['C' 'S' 'P' 'I' 'N' 'E']\n",
      "\n",
      "📌 Columna: tipo_caso\n",
      "[3 2 5]\n",
      "\n",
      "📌 Columna: uni_med_\n",
      "[1 3 2]\n"
     ]
    }
   ],
   "source": [
    "\n",
    "# Definir columnas a excluir\n",
    "excluir = ['edad_uni', 'localidad', 'barrio', 'fecha_consulta', 'fecha_ini_sintomas','fecha_notifica']\n",
    "\n",
    "# Recorrer columnas\n",
    "for col in df.columns:\n",
    "    if col not in excluir:\n",
    "        print(f\"\\n📌 Columna: {col}\")\n",
    "        print(df[col].unique())\n"
   ]
  },
  {
   "cell_type": "code",
   "execution_count": 36,
   "id": "2e9c1ed5",
   "metadata": {},
   "outputs": [
    {
     "name": "stdout",
     "output_type": "stream",
     "text": [
      "\n",
      "📊 Valores faltantes por variable:\n",
      "barrio        373\n",
      "localidad    1413\n",
      "dtype: int64\n"
     ]
    }
   ],
   "source": [
    "# Valores faltantes por variable\n",
    "faltantes = df.isnull().sum()\n",
    "print(\"\\n📊 Valores faltantes por variable:\")\n",
    "print(faltantes[faltantes > 0])"
   ]
  },
  {
   "cell_type": "markdown",
   "id": "8d772b0a",
   "metadata": {},
   "source": [
    "## 2. Análisis univariado"
   ]
  },
  {
   "cell_type": "code",
   "execution_count": 37,
   "id": "eca8a0a2",
   "metadata": {},
   "outputs": [],
   "source": [
    "# funcion para describir variables categoricas\n",
    "def describir_categorica(columna):\n",
    "    print(f\"\\n📌 Variable: {columna.name}\")\n",
    "    print(columna.value_counts(dropna=False))  # Incluye NaN en el conteo\n",
    "    print(\"\\nProporciones:\")\n",
    "    print(columna.value_counts(normalize=True, dropna=False))  # Proporciones incluyendo NaN\n",
    "    print(\"\\n-----------------------------------\")"
   ]
  },
  {
   "cell_type": "code",
   "execution_count": null,
   "id": "8ad05768",
   "metadata": {},
   "outputs": [],
   "source": [
    "# Tabla descriptivo de numericas\n",
    "def describir_numerica(columna):\n",
    "    print(f\"\\n📌 Variable: {columna.name}\")\n",
    "    print(f\"Min {columna.min()}\")\n",
    "    print(f\"Max{columna.max()}\")\n",
    "    print(columna.max())\n",
    "    print(columna.mean())\n",
    "    print(columna.std())\n",
    "    print(columna.median())\n",
    "    print(\"\\n-----------------------------------\")\n",
    "\n"
   ]
  },
  {
   "cell_type": "markdown",
   "id": "7bd72bc5",
   "metadata": {},
   "source": [
    "### 2.1 Variables demográficas\n",
    "\n",
    "Edad (distribución por grupos etarios).\n",
    "Sexo.\n",
    "Etnia.\n",
    "Tipo de aseguradora."
   ]
  },
  {
   "cell_type": "code",
   "execution_count": null,
   "id": "1bd9ac93",
   "metadata": {},
   "outputs": [
    {
     "name": "stdout",
     "output_type": "stream",
     "text": [
      "\n",
      "📌 Variable: sexo\n",
      "sexo\n",
      "M    18648\n",
      "F    16800\n",
      "Name: count, dtype: int64\n",
      "\n",
      "Proporciones:\n",
      "sexo\n",
      "M    0.526066\n",
      "F    0.473934\n",
      "Name: proportion, dtype: float64\n",
      "\n",
      "-----------------------------------\n",
      "\n",
      "📌 Variable: etnia\n",
      "etnia\n",
      "0    34872\n",
      "1      576\n",
      "Name: count, dtype: int64\n",
      "\n",
      "Proporciones:\n",
      "etnia\n",
      "0    0.983751\n",
      "1    0.016249\n",
      "Name: proportion, dtype: float64\n",
      "\n",
      "-----------------------------------\n",
      "\n",
      "📌 Variable: tipo_aseguradora\n",
      "tipo_aseguradora\n",
      "S    17577\n",
      "C    15637\n",
      "P     1180\n",
      "N      727\n",
      "I      226\n",
      "E      101\n",
      "Name: count, dtype: int64\n",
      "\n",
      "Proporciones:\n",
      "tipo_aseguradora\n",
      "S    0.495853\n",
      "C    0.441125\n",
      "P    0.033288\n",
      "N    0.020509\n",
      "I    0.006376\n",
      "E    0.002849\n",
      "Name: proportion, dtype: float64\n",
      "\n",
      "-----------------------------------\n"
     ]
    }
   ],
   "source": [
    "describir_categorica(df[\"sexo\"])\n",
    "describir_categorica(df[\"etnia\"])\n",
    "describir_categorica(df[\"tipo_aseguradora\"])"
   ]
  },
  {
   "cell_type": "code",
   "execution_count": 46,
   "id": "bb6a9991",
   "metadata": {},
   "outputs": [
    {
     "data": {
      "image/png": "[encoded data removed]",
      "text/plain": [
       "<Figure size 1000x600 with 1 Axes>"
      ]
     },
     "metadata": {},
     "output_type": "display_data"
    }
   ],
   "source": [
    "grupo_menores_1 = df[df['edad_uni'] < 1]\n",
    "plt.figure(figsize=(10, 6))\n",
    "sns.histplot(grupo_menores_1['edad_uni'], bins=30, kde=True)\n",
    "plt.title('Distribución de la Edad')\n",
    "plt.xlabel('Edad')\n",
    "plt.ylabel('Frecuencia')\n",
    "plt.show()"
   ]
  },
  {
   "cell_type": "code",
   "execution_count": 61,
   "id": "f1b9f800",
   "metadata": {},
   "outputs": [
    {
     "name": "stdout",
     "output_type": "stream",
     "text": [
      "Número de casos menores de 1 año: 468\n",
      "Porcentaje de casos menores de 1 año: 1.32%\n",
      "\n",
      "📌 Variable: edad_uni\n",
      "0.0\n",
      "0.916666667\n",
      "0.607601081096154\n",
      "0.258541890357979\n",
      "0.666666667\n",
      "\n",
      "-----------------------------------\n"
     ]
    }
   ],
   "source": [
    "grupo_menores_1.shape[0]\n",
    "prop = (grupo_menores_1.shape[0] / df.shape[0]) * 100\n",
    "print(f\"Número de casos menores de 1 año: {grupo_menores_1.shape[0]}\")\n",
    "print(f\"Porcentaje de casos menores de 1 año: {prop:.2f}%\")\n",
    "\n",
    "describir_numerica(grupo_menores_1[\"edad_uni\"])"
   ]
  },
  {
   "cell_type": "code",
   "execution_count": 51,
   "id": "c19aedca",
   "metadata": {},
   "outputs": [
    {
     "data": {
      "image/png": "[encoded data removed]",
      "text/plain": [
       "<Figure size 1000x600 with 1 Axes>"
      ]
     },
     "metadata": {},
     "output_type": "display_data"
    }
   ],
   "source": [
    "grupo_mayores_60 = df[df['edad_uni'] > 60]\n",
    "plt.figure(figsize=(10, 6))\n",
    "sns.histplot(grupo_mayores_60['edad_uni'], bins=30, kde=True)\n",
    "plt.title('Distribución de la Edad (mayores de 60 años)')\n",
    "plt.xlabel('Edad')\n",
    "plt.ylabel('Frecuencia')\n",
    "plt.show()\n"
   ]
  },
  {
   "cell_type": "code",
   "execution_count": 56,
   "id": "106970f2",
   "metadata": {},
   "outputs": [
    {
     "name": "stdout",
     "output_type": "stream",
     "text": [
      "Número de casos mayores de 60 años: 686\n",
      "Porcentaje de casos mayores de 60 años: 1.94%\n"
     ]
    }
   ],
   "source": [
    "grupo_mayores_60.shape[0]\n",
    "prop = (grupo_mayores_60.shape[0] / df.shape[0]) * 100\n",
    "print(f\"Número de casos mayores de 60 años: {grupo_mayores_60.shape[0]}\")\n",
    "print(f\"Porcentaje de casos mayores de 60 años: {prop:.2f}%\")"
   ]
  },
  {
   "cell_type": "code",
   "execution_count": null,
   "id": "9e4a00f2",
   "metadata": {},
   "outputs": [
    {
     "data": {
      "image/png": "[encoded data removed]",
      "text/plain": [
       "<Figure size 1000x600 with 1 Axes>"
      ]
     },
     "metadata": {},
     "output_type": "display_data"
    }
   ],
   "source": [
    "grupo_normal = df[(df['edad_uni'] >= 1) & (df['edad_uni'] <= 60)]\n",
    "plt.figure(figsize=(10, 6))\n",
    "sns.boxplot(x=grupo_normal['edad_uni'])\n",
    "plt.title('Distribución de la Edad (1 a 60 años)')\n",
    "plt.xlabel('Edad')\n",
    "plt.ylabel('Frecuencia')\n",
    "plt.show()"
   ]
  },
  {
   "cell_type": "code",
   "execution_count": 59,
   "id": "c00ba28e",
   "metadata": {},
   "outputs": [
    {
     "data": {
      "text/plain": [
       "count    34294.000000\n",
       "mean        15.773634\n",
       "std         10.543739\n",
       "min          1.000000\n",
       "25%          9.000000\n",
       "50%         14.000000\n",
       "75%         19.000000\n",
       "max         60.000000\n",
       "Name: edad_uni, dtype: float64"
      ]
     },
     "execution_count": 59,
     "metadata": {},
     "output_type": "execute_result"
    }
   ],
   "source": [
    "grupo_normal['edad_uni'].describe()"
   ]
  },
  {
   "cell_type": "markdown",
   "id": "6153d0df",
   "metadata": {},
   "source": [
    "\n",
    "\n",
    "3.2 Variables del evento/desenlace\n",
    "\n",
    "Evento / tipo de caso (distribución).\n",
    "\n",
    "Hospitalización (%).\n",
    "\n",
    "Mortalidad (%).\n",
    "\n",
    "3.3 Variables geográficas\n",
    "\n",
    "Municipio (Atlántico).\n",
    "\n",
    "Localidad y barrio (Barranquilla).\n",
    "\n",
    "Distribución de casos en mapas o tablas.\n",
    "\n",
    "3.4 Variables temporales\n",
    "\n",
    "Serie de casos por año.\n",
    "\n",
    "Serie de casos por semana.\n",
    "\n",
    "Picos y estacionalidad."
   ]
  },
  {
   "cell_type": "markdown",
   "id": "f837f2e5",
   "metadata": {},
   "source": [
    "4. Exploración bivariada (comparaciones)\n",
    "\n",
    "4.1 Demografía vs evento/desenlace\n",
    "\n",
    "Edad × hospitalización.\n",
    "\n",
    "Sexo × tipo de caso.\n",
    "\n",
    "Aseguradora × mortalidad.\n",
    "\n",
    "4.2 Geografía vs desenlace\n",
    "\n",
    "Municipios/localidades con mayor hospitalización o mortalidad.\n",
    "\n",
    "Tasas de casos por 100.000 hab.\n",
    "\n",
    "4.3 Temporalidad vs desenlace\n",
    "\n",
    "Hospitalización y mortalidad por año y semana.\n",
    "\n",
    "Comparaciones antes/después de picos epidémicos."
   ]
  },
  {
   "cell_type": "markdown",
   "id": "35508d7d",
   "metadata": {},
   "source": [
    "5. Pruebas estadísticas\n",
    "\n",
    "Pruebas de proporción:\n",
    "\n",
    "Diferencia en proporciones de hospitalización por sexo.\n",
    "\n",
    "Diferencia en proporciones de mortalidad entre municipios/localidades.\n",
    "\n",
    "Chi-cuadrado de independencia:\n",
    "\n",
    "Sexo × tipo de caso.\n",
    "\n",
    "Edad (categorías) × hospitalización.\n",
    "\n",
    "Municipio × mortalidad.\n",
    "\n",
    "Pruebas de medias:\n",
    "\n",
    "Diferencia en promedio de edad entre hospitalizados vs no hospitalizados.\n",
    "\n",
    "Diferencia en diferencia de días (síntomas→consulta) por municipio."
   ]
  },
  {
   "cell_type": "markdown",
   "id": "6f7973f9",
   "metadata": {},
   "source": [
    "6. Análisis multivariado\n",
    "\n",
    "Correlación entre variables numéricas\n",
    "\n",
    "Edad, diferencia de días, semana.\n",
    "\n",
    "Heatmap de correlaciones.\n",
    "\n",
    "Análisis de correspondencias múltiples (ACM/MCA)\n",
    "\n",
    "Para variables categóricas: sexo, etnia, aseguradora, municipio/localidad.\n",
    "\n",
    "Ver si aparecen perfiles de pacientes.\n",
    "\n",
    "Clustering exploratorio (opcional)\n",
    "\n",
    "Agrupar barrios/localidades por perfil de casos."
   ]
  },
  {
   "cell_type": "markdown",
   "id": "0b784b0c",
   "metadata": {},
   "source": [
    "7. Resumen y hallazgos clave\n",
    "\n",
    "Principales patrones encontrados.\n",
    "\n",
    "Variables críticas para explicar hospitalización y mortalidad.\n",
    "\n",
    "Brechas de información (faltantes o inconsistencias)."
   ]
  },
  {
   "cell_type": "markdown",
   "id": "b7fa521d",
   "metadata": {},
   "source": []
  }
 ],
 "metadata": {
  "kernelspec": {
   "display_name": "dengue",
   "language": "python",
   "name": "python3"
  },
  "language_info": {
   "codemirror_mode": {
    "name": "ipython",
    "version": 3
   },
   "file_extension": ".py",
   "mimetype": "text/x-python",
   "name": "python",
   "nbconvert_exporter": "python",
   "pygments_lexer": "ipython3",
   "version": "3.12.11"
  }
 },
 "nbformat": 4,
 "nbformat_minor": 5
}
