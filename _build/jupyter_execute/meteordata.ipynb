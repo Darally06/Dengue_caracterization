{
 "cells": [
  {
   "cell_type": "code",
   "execution_count": 1,
   "id": "0be5d29c",
   "metadata": {},
   "outputs": [
    {
     "name": "stdout",
     "output_type": "stream",
     "text": [
      "<class 'pandas.core.frame.DataFrame'>\n",
      "RangeIndex: 14417 entries, 0 to 14416\n",
      "Data columns (total 8 columns):\n",
      " #   Column                    Non-Null Count  Dtype  \n",
      "---  ------                    --------------  -----  \n",
      " 0   CodigoEstacion            14417 non-null  int64  \n",
      " 1   NombreEstacion            14417 non-null  object \n",
      " 2   Fecha                     14417 non-null  object \n",
      " 3   Humedad relativa maxima   2418 non-null   float64\n",
      " 4   Humendad relativa minima  2418 non-null   float64\n",
      " 5   Precipitacion             12411 non-null  float64\n",
      " 6   Temperatura maxima        3677 non-null   float64\n",
      " 7   Temperatura minima        4520 non-null   float64\n",
      "dtypes: float64(5), int64(1), object(2)\n",
      "memory usage: 901.2+ KB\n"
     ]
    }
   ],
   "source": [
    "import pandas as pd\n",
    "\n",
    "df = pd.read_csv(r\"C:\\Users\\Hp\\DENGUE\\Data\\dengue_data\\clima_atl_wide.csv\")\n",
    "df.info()"
   ]
  },
  {
   "cell_type": "code",
   "execution_count": 2,
   "id": "7d15416a",
   "metadata": {},
   "outputs": [
    {
     "data": {
      "text/plain": [
       "NombreEstacion\n",
       "BARRANQUILLA SEDE [29040450]                2557\n",
       "NORMAL MANATI  - AUT [29035080]             2492\n",
       "JUAN DE ACOSTA [29045110]                   2464\n",
       "HIBACHARO [14010020]                         872\n",
       "AEROPUERTO E. CORTISSOZ - AUT [29045190]     779\n",
       "CAMPANOS LOS [29040290]                      739\n",
       "CAMPO DE LA CRUZ [29040250]                  702\n",
       "LOMA GRANDE [29030270]                       590\n",
       "MONTEBELLO [29040020]                        536\n",
       "LEÑA [29040200]                              533\n",
       "PIOJO [14010010]                             521\n",
       "CANDELARIA [29040260]                        518\n",
       "PINTADA LA [14010100]                        431\n",
       "CASA DE BOMBAS [29030410]                    422\n",
       "POLONUEVO [29040080]                         261\n",
       "Name: count, dtype: int64"
      ]
     },
     "execution_count": 2,
     "metadata": {},
     "output_type": "execute_result"
    }
   ],
   "source": [
    "df['NombreEstacion'].value_counts()"
   ]
  },
  {
   "cell_type": "code",
   "execution_count": null,
   "id": "245611ea",
   "metadata": {},
   "outputs": [],
   "source": []
  }
 ],
 "metadata": {
  "kernelspec": {
   "display_name": "dengue",
   "language": "python",
   "name": "python3"
  },
  "language_info": {
   "codemirror_mode": {
    "name": "ipython",
    "version": 3
   },
   "file_extension": ".py",
   "mimetype": "text/x-python",
   "name": "python",
   "nbconvert_exporter": "python",
   "pygments_lexer": "ipython3",
   "version": "3.12.11"
  }
 },
 "nbformat": 4,
 "nbformat_minor": 5
}