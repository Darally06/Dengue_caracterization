{
 "cells": [
  {
   "cell_type": "markdown",
   "id": "ec2dd7c1",
   "metadata": {},
   "source": [
    "# COLOMBIS"
   ]
  },
  {
   "cell_type": "markdown",
   "id": "4ff9ac25",
   "metadata": {},
   "source": [
    "aqui va lo de colombia"
   ]
  },
  {
   "cell_type": "markdown",
   "id": "4ebb78d4",
   "metadata": {},
   "source": []
  }
 ],
 "metadata": {
  "language_info": {
   "name": "python"
  }
 },
 "nbformat": 4,
 "nbformat_minor": 5
}
